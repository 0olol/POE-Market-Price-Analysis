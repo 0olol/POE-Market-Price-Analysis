{
 "cells": [
  {
   "cell_type": "code",
   "execution_count": null,
   "metadata": {},
   "outputs": [],
   "source": [
    "import pandas as pd\n",
    "import matplotlib.pyplot as plt\n",
    "from matplotlib.ticker import (MultipleLocator, AutoMinorLocator, PercentFormatter)\n",
    "import numpy as np\n",
    "pd.set_option('display.max_rows', 50)"
   ]
  },
  {
   "cell_type": "code",
   "execution_count": null,
   "metadata": {},
   "outputs": [],
   "source": [
    "kalandra = pd.read_csv(\"Currency/Kalandra.currency.csv\", sep = \";\")\n",
    "sentinel = pd.read_csv(\"Currency/Sentinel.currency.csv\", sep = \";\")\n",
    "archnemesis = pd.read_csv(\"Currency/Archnemesis.currency.csv\", sep = \";\")\n",
    "scourge = pd.read_csv(\"Currency/Scourge.currency.csv\", sep = \";\")\n",
    "\n",
    "expedition = pd.read_csv(\"Currency/Expedition.currency.csv\", sep = \";\")\n",
    "# ultimatum = pd.read_csv(\"Currency/Ultimatum.currency.csv\", sep = \";\")\n",
    "# ritual = pd.read_csv(\"Currency/Ritual.currency.csv\", sep = \";\")"
   ]
  },
  {
   "cell_type": "code",
   "execution_count": null,
   "metadata": {},
   "outputs": [],
   "source": [
    "kalandra_secRegradingLens = kalandra.loc[kalandra['Get']=='Secondary Regrading Lens']\n",
    "sentinel_secRegradingLens = sentinel.loc[sentinel['Get']=='Secondary Regrading Lens']\n",
    "archnemesis_secRegradingLens = archnemesis.loc[archnemesis['Get']=='Secondary Regrading Lens']\n",
    "scourge_secRegradingLens = scourge.loc[scourge['Get']=='Secondary Regrading Lens']\n",
    "\n",
    "expedition_secRegradingLens = expedition.loc[expedition['Get']=='Secondary Regrading Lens']\n",
    "# ultimatum_secRegradingLens = ultimatum.loc[ultimatum['Get']=='Secondary Regrading Lens']\n",
    "# ritual_secRegradingLens = ritual.loc[ritual['Get']=='Secondary Regrading Lens']\n",
    "\n",
    "\n",
    "# kalandra_secRegradingLens = kalandra_secRegradingLens[kalandra_secRegradingLens.Value < 250000]\n",
    "# kalandra_secRegradingLens = kalandra_secRegradingLens[kalandra_secRegradingLens.Value > 1000]\n"
   ]
  },
  {
   "cell_type": "code",
   "execution_count": null,
   "metadata": {},
   "outputs": [],
   "source": [
    "kalandra_newID = kalandra_secRegradingLens.copy()\n",
    "sentinel_newID = sentinel_secRegradingLens.copy()\n",
    "archnemesis_newID = archnemesis_secRegradingLens.copy()\n",
    "scourge_newID = scourge_secRegradingLens.copy()\n",
    "\n",
    "expedition_newID = expedition_secRegradingLens.copy()\n",
    "# ultimatum_newID = ultimatum_secRegradingLens.copy()\n",
    "# ritual_newID = ritual_secRegradingLens.copy()\n"
   ]
  },
  {
   "cell_type": "code",
   "execution_count": null,
   "metadata": {},
   "outputs": [],
   "source": [
    "kalandra_newID.insert(0, 'Days', range(1, 1+len(kalandra_newID['Date'])))\n",
    "sentinel_newID.insert(0, 'Days', range(1, 1+len(sentinel_newID['Date'])))\n",
    "archnemesis_newID.insert(0, 'Days', range(1, 1+len(archnemesis_newID['Date'])))\n",
    "scourge_newID.insert(0, 'Days', range(1, 1+len(scourge_newID['Date'])))\n",
    "\n",
    "expedition_newID.insert(0, 'Days', range(1, 1+len(expedition_newID['Date'])))\n",
    "# ultimatum_newID.insert(0, 'Days', range(1, 1+len(ultimatum_newID['Date'])))\n",
    "# ritual_newID.insert(0, 'Days', range(1, 1+len(ritual_newID['Date'])))\n"
   ]
  },
  {
   "cell_type": "code",
   "execution_count": null,
   "metadata": {},
   "outputs": [],
   "source": [
    "fig, ax = plt.subplots(figsize=(20,10))\n",
    "plt.title('Chaos Price for Secondary Regrading Lens', fontsize=15,fontweight='bold')\n",
    "ax.plot(kalandra_newID['Days'],kalandra_newID['Value'], label = 'Kalandra')\n",
    "ax.plot(sentinel_newID['Days'],sentinel_newID['Value'], label = 'Sentinel')\n",
    "ax.plot(archnemesis_newID['Days'],archnemesis_newID['Value'], label = 'Archnemesis')\n",
    "ax.plot(scourge_newID['Days'],scourge_newID['Value'], label = 'Scourge')\n",
    "\n",
    "ax.plot(expedition_newID['Days'],expedition_newID['Value'], label = 'Expedition')\n",
    "# ax.plot(ultimatum_newID['Days'],ultimatum_newID['Value'], label = 'Ultimatum')\n",
    "# ax.plot(ritual_newID['Days'],ritual_newID['Value'], label = 'Ritual')\n",
    "ax.legend()\n",
    "\n",
    "fig.show()"
   ]
  },
  {
   "cell_type": "code",
   "execution_count": null,
   "metadata": {},
   "outputs": [],
   "source": [
    "kalandra_Ref1stDay = kalandra_secRegradingLens.copy()\n",
    "sentinel_Ref1stDay = sentinel_secRegradingLens.copy()\n",
    "archnemesis_Ref1stDay = archnemesis_secRegradingLens.copy()\n",
    "scourge_Ref1stDay = scourge_secRegradingLens.copy()\n",
    "\n",
    "expedition_Ref1stDay = expedition_secRegradingLens.copy()\n",
    "# ultimatum_Ref1stDay = ultimatum_secRegradingLens.copy()\n",
    "# ritual_Ref1stDay = ritual_secRegradingLens.copy()"
   ]
  },
  {
   "cell_type": "code",
   "execution_count": null,
   "metadata": {},
   "outputs": [],
   "source": [
    "def get_variation(values: pd.Series) -> np.float64:\n",
    "    base = values.iloc[0]  # first element in window iteration\n",
    "    current = values.iloc[-1]  # last element in window iteration\n",
    "\n",
    "    return (current - base) / base if base else 0  # avoid ZeroDivisionError\n",
    "\n",
    "# variations = archnemesis_Ref1stDay['Value'].expanding().apply(get_variation)\n",
    "kalandra_Ref1stDay.insert(0, 'Days', range(1, 1+len(kalandra_Ref1stDay['Date'])))\n",
    "kalandra_Ref1stDay.insert(4, 'Pct_change_RefDay_1', kalandra_Ref1stDay['Value'].expanding().apply(get_variation))\n",
    "# kalandra_Ref1stDay = kalandra_Ref1stDay.assign(change=variations.droplevel(0)) #dont know whats this for\n",
    "sentinel_Ref1stDay.insert(0, 'Days', range(1, 1+len(sentinel_Ref1stDay['Date'])))\n",
    "sentinel_Ref1stDay.insert(4, 'Pct_change_RefDay_1', sentinel_Ref1stDay['Value'].expanding().apply(get_variation))\n",
    "archnemesis_Ref1stDay.insert(0, 'Days', range(1, 1+len(archnemesis_Ref1stDay['Date'])))\n",
    "archnemesis_Ref1stDay.insert(4, 'Pct_change_RefDay_1', archnemesis_Ref1stDay['Value'].expanding().apply(get_variation))\n",
    "scourge_Ref1stDay.insert(0, 'Days', range(1, 1+len(scourge_Ref1stDay['Date'])))\n",
    "scourge_Ref1stDay.insert(4, 'Pct_change_RefDay_1', scourge_Ref1stDay['Value'].expanding().apply(get_variation))\n",
    "\n",
    "expedition_Ref1stDay.insert(0, 'Days', range(1, 1+len(expedition_Ref1stDay['Date'])))\n",
    "expedition_Ref1stDay.insert(4, 'Pct_change_RefDay_1', expedition_Ref1stDay['Value'].expanding().apply(get_variation))\n",
    "# ultimatum_Ref1stDay.insert(0, 'Days', range(1, 1+len(ultimatum_Ref1stDay['Date'])))\n",
    "# ultimatum_Ref1stDay.insert(4, 'Pct_change_RefDay_1', ultimatum_Ref1stDay['Value'].expanding().apply(get_variation))\n",
    "# ritual_Ref1stDay.insert(0, 'Days', range(1, 1+len(ritual_Ref1stDay['Date'])))\n",
    "# ritual_Ref1stDay.insert(4, 'Pct_change_RefDay_1', ritual_Ref1stDay['Value'].expanding().apply(get_variation))"
   ]
  },
  {
   "cell_type": "code",
   "execution_count": null,
   "metadata": {},
   "outputs": [],
   "source": [
    "\n",
    "fig, ax = plt.subplots(figsize=(20,10))\n",
    "plt.title('Chaos Price for Secondary Regrading Lens in percentage', fontsize=15,fontweight='bold')\n",
    "ax.xaxis.set_minor_locator(MultipleLocator(1))\n",
    "ax.xaxis.set_major_locator(MultipleLocator(5))\n",
    "ax.yaxis.set_major_formatter(PercentFormatter(xmax=1))\n",
    "ax.yaxis.set_minor_locator(AutoMinorLocator(5))\n",
    "\n",
    "\n",
    "ax.plot(kalandra_Ref1stDay['Days'],kalandra_Ref1stDay['Pct_change_RefDay_1'],label = 'kalandra')\n",
    "ax.plot(sentinel_Ref1stDay['Days'],sentinel_Ref1stDay['Pct_change_RefDay_1'],label = 'sentinel')\n",
    "ax.plot(archnemesis_Ref1stDay['Days'],archnemesis_Ref1stDay['Pct_change_RefDay_1'],label = 'Archnemesis')\n",
    "ax.plot(scourge_Ref1stDay['Days'],scourge_Ref1stDay['Pct_change_RefDay_1'],label = 'scourge')\n",
    "\n",
    "ax.plot(expedition_Ref1stDay['Days'],expedition_Ref1stDay['Pct_change_RefDay_1'],label = 'expedition')\n",
    "# ax.plot(ultimatum_Ref1stDay['Days'],ultimatum_Ref1stDay['Pct_change_RefDay_1'],label = 'ultimatum')\n",
    "# ax.plot(ritual_Ref1stDay['Days'],ritual_Ref1stDay['Pct_change_RefDay_1'],label = 'ritual')\n",
    "ax.legend()\n"
   ]
  },
  {
   "cell_type": "code",
   "execution_count": null,
   "metadata": {},
   "outputs": [],
   "source": []
  },
  {
   "cell_type": "code",
   "execution_count": null,
   "metadata": {},
   "outputs": [],
   "source": []
  },
  {
   "cell_type": "code",
   "execution_count": null,
   "metadata": {},
   "outputs": [],
   "source": []
  },
  {
   "cell_type": "code",
   "execution_count": null,
   "metadata": {},
   "outputs": [],
   "source": []
  },
  {
   "cell_type": "code",
   "execution_count": null,
   "metadata": {},
   "outputs": [],
   "source": []
  },
  {
   "cell_type": "code",
   "execution_count": null,
   "metadata": {},
   "outputs": [],
   "source": []
  }
 ],
 "metadata": {
  "kernelspec": {
   "display_name": "Python 3",
   "language": "python",
   "name": "python3"
  },
  "language_info": {
   "codemirror_mode": {
    "name": "ipython",
    "version": 3
   },
   "file_extension": ".py",
   "mimetype": "text/x-python",
   "name": "python",
   "nbconvert_exporter": "python",
   "pygments_lexer": "ipython3",
   "version": "3.10.10"
  },
  "orig_nbformat": 4
 },
 "nbformat": 4,
 "nbformat_minor": 2
}
