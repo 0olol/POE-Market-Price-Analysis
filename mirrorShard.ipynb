{
 "cells": [
  {
   "cell_type": "code",
   "execution_count": null,
   "metadata": {},
   "outputs": [],
   "source": [
    "import pandas as pd\n",
    "import matplotlib.pyplot as plt\n",
    "from matplotlib.ticker import (MultipleLocator, AutoMinorLocator, PercentFormatter)\n",
    "pd.set_option('display.max_rows', 50)\n"
   ]
  },
  {
   "cell_type": "code",
   "execution_count": null,
   "metadata": {},
   "outputs": [],
   "source": [
    "kalandra = pd.read_csv(\"Kalandra.currency.csv\", sep = \";\")\n",
    "sentinel = pd.read_csv(\"Sentinel.currency.csv\", sep = \";\")\n",
    "# archnemesis = pd.read_csv(\"Archnemesis.currency.csv\", sep = \";\")\n",
    "# scourge = pd.read_csv(\"Scourge.currency.csv\", sep = \";\")"
   ]
  },
  {
   "cell_type": "code",
   "execution_count": null,
   "metadata": {},
   "outputs": [],
   "source": [
    "kalandra.head()\n",
    "kalandra.info()"
   ]
  },
  {
   "cell_type": "markdown",
   "metadata": {},
   "source": [
    "kalandra_unique_name = kalandra['Get'].unique()\n",
    "kalandra_unique_name"
   ]
  },
  {
   "attachments": {},
   "cell_type": "markdown",
   "metadata": {},
   "source": [
    "Mirror Shard"
   ]
  },
  {
   "cell_type": "markdown",
   "metadata": {},
   "source": [
    "kalandra.loc[kalandra['Get']=='Mirror Shard']\n",
    "sentinel.loc[sentinel['Get']=='Mirror Shard']"
   ]
  },
  {
   "cell_type": "code",
   "execution_count": null,
   "metadata": {},
   "outputs": [],
   "source": [
    "kalandra.loc[ kalandra.Value >250000]"
   ]
  },
  {
   "cell_type": "code",
   "execution_count": null,
   "metadata": {},
   "outputs": [],
   "source": [
    "kalandra['Date']"
   ]
  },
  {
   "cell_type": "code",
   "execution_count": null,
   "metadata": {},
   "outputs": [],
   "source": [
    "kalandra_mirrorShard = kalandra.loc[kalandra['Get']=='Mirror Shard']\n",
    "sentinel_mirrorShard = sentinel.loc[sentinel['Get']=='Mirror Shard']\n",
    "\n",
    "kalandra_mirrorShard"
   ]
  },
  {
   "cell_type": "code",
   "execution_count": null,
   "metadata": {},
   "outputs": [],
   "source": [
    "sentinel_mirrorShard"
   ]
  },
  {
   "cell_type": "code",
   "execution_count": null,
   "metadata": {},
   "outputs": [],
   "source": [
    "fig, ax = plt.subplots(figsize=(20,10))\n",
    "plt.title('Chaos Price for Mirror Shard for kalandra', fontsize=15,fontweight='bold')\n",
    "ax.plot(kalandra_mirrorShard['Date'],kalandra_mirrorShard['Value'])\n",
    "fig.show()"
   ]
  },
  {
   "cell_type": "code",
   "execution_count": null,
   "metadata": {},
   "outputs": [],
   "source": [
    "fig, ax = plt.subplots(figsize=(20,10))\n",
    "plt.title('Chaos Price for Mirror Shard for sentinel', fontsize=15,fontweight='bold')\n",
    "ax.plot(sentinel_mirrorShard['Date'],sentinel_mirrorShard['Value'])\n",
    "fig.show()"
   ]
  },
  {
   "cell_type": "code",
   "execution_count": null,
   "metadata": {},
   "outputs": [],
   "source": [
    "kalandra_newID = kalandra_mirrorShard\n",
    "# kalandra_newID.drop('days')\n",
    "kalandra_newID = kalandra_newID[kalandra_newID.Value > 66]\n",
    "kalandra_newID.insert(0, 'Days', range(1, 1+len(kalandra_newID['Date'])))"
   ]
  },
  {
   "cell_type": "code",
   "execution_count": null,
   "metadata": {},
   "outputs": [],
   "source": [
    "sentinel_newID = sentinel_mirrorShard\n",
    "# sentinel_newID.drop('days')\n",
    "# sentinel_newID = sentinel_newID[sentinel_newID.Value > 66]\n",
    "sentinel_newID.insert(0, 'Days', range(1, 1+len(sentinel_newID['Date'])))\n",
    "sentinel_newID"
   ]
  },
  {
   "cell_type": "code",
   "execution_count": null,
   "metadata": {},
   "outputs": [],
   "source": [
    "kalandra_newID = kalandra_newID.reset_index()\n",
    "kalandra_newID = kalandra_newID.drop(columns=['index'])\n"
   ]
  },
  {
   "cell_type": "code",
   "execution_count": null,
   "metadata": {},
   "outputs": [],
   "source": [
    "sentinel_newID = sentinel_newID.reset_index()\n",
    "sentinel_newID = sentinel_newID.drop(columns=['index'])\n"
   ]
  },
  {
   "cell_type": "code",
   "execution_count": null,
   "metadata": {},
   "outputs": [],
   "source": [
    "kalandra_newID"
   ]
  },
  {
   "cell_type": "code",
   "execution_count": null,
   "metadata": {},
   "outputs": [],
   "source": [
    "# kalandra_newID\n",
    "# sentinel_newID\n",
    "sentinel_mirrorShard"
   ]
  },
  {
   "cell_type": "code",
   "execution_count": null,
   "metadata": {},
   "outputs": [],
   "source": [
    "fig, ax = plt.subplots(figsize=(20,10))\n",
    "plt.title('Chaos Price for Mirror Shard', fontsize=15,fontweight='bold')\n",
    "ax.plot(kalandra_newID['Days'],kalandra_newID['Value'], color = 'b')\n",
    "ax.plot(sentinel_newID['Days'],sentinel_newID['Value'], color ='g')\n",
    "fig.show()"
   ]
  },
  {
   "cell_type": "code",
   "execution_count": null,
   "metadata": {},
   "outputs": [],
   "source": [
    "kalandra_mirrorPCT = kalandra_mirrorShard\n",
    "kalandra_mirrorPCT.insert(0, 'Pct_change', kalandra_mirrorPCT['Value'].pct_change())\n",
    "kalandra_mirrorPCT.insert(0, 'Days', range(1, 1+len(kalandra_mirrorPCT['Date'])))\n",
    "# kalandra_mirrorPCT = kalandra_newID['Value'].pct_change()\n",
    "kalandra_mirrorPCT"
   ]
  },
  {
   "cell_type": "code",
   "execution_count": null,
   "metadata": {},
   "outputs": [],
   "source": [
    "sentinel_mirrorPCT = sentinel_mirrorShard\n",
    "sentinel_mirrorPCT.insert(0, 'Pct_change', sentinel_mirrorPCT['Value'].pct_change())\n",
    "sentinel_mirrorPCT.insert(0, 'Days', range(1, 1+len(sentinel_mirrorPCT['Date'])))\n",
    "# kalandra_mirrorPCT = kalandra_newID['Value'].pct_change()\n",
    "sentinel_mirrorPCT"
   ]
  },
  {
   "cell_type": "code",
   "execution_count": null,
   "metadata": {},
   "outputs": [],
   "source": [
    "kalandra_mirrorPCT.loc[kalandra_mirrorPCT.Pct_change > 10, 'Pct_change'] = 0\n",
    "kalandra_mirrorPCT.loc[kalandra_mirrorPCT.Pct_change < -0.5, 'Pct_change'] = 0\n",
    "\n",
    "# kalandra_mirrorPCT['Pct_change'] "
   ]
  },
  {
   "cell_type": "code",
   "execution_count": null,
   "metadata": {},
   "outputs": [],
   "source": [
    "kalandra_mirrorPCT.head(20)"
   ]
  },
  {
   "cell_type": "code",
   "execution_count": null,
   "metadata": {},
   "outputs": [],
   "source": [
    "kalandra_mirrorPCT.info()"
   ]
  },
  {
   "cell_type": "code",
   "execution_count": null,
   "metadata": {},
   "outputs": [],
   "source": [
    "fig, ax = plt.subplots(figsize=(20,10))\n",
    "plt.title('Chaos Price for Mirror Shard in percentage for kalandra', fontsize=15,fontweight='bold')\n",
    "ax.xaxis.set_minor_locator(MultipleLocator(1))\n",
    "ax.xaxis.set_major_locator(MultipleLocator(5))\n",
    "ax.yaxis.set_major_formatter(PercentFormatter(xmax=1))\n",
    "ax.yaxis.set_minor_locator(AutoMinorLocator(5))\n",
    "\n",
    "ax.plot(kalandra_mirrorPCT['Days'],kalandra_mirrorPCT['Pct_change'])\n",
    "ax.plot(sentinel_mirrorPCT['Days'],sentinel_mirrorPCT['Pct_change'])\n",
    "\n",
    "fig.show()"
   ]
  }
 ],
 "metadata": {
  "kernelspec": {
   "display_name": "Python 3",
   "language": "python",
   "name": "python3"
  },
  "language_info": {
   "codemirror_mode": {
    "name": "ipython",
    "version": 3
   },
   "file_extension": ".py",
   "mimetype": "text/x-python",
   "name": "python",
   "nbconvert_exporter": "python",
   "pygments_lexer": "ipython3",
   "version": "3.10.10"
  },
  "orig_nbformat": 4,
  "vscode": {
   "interpreter": {
    "hash": "de64b43da0357a7fb69b821549c31a9b8c302c765180c5713d829c75d7e6d74f"
   }
  }
 },
 "nbformat": 4,
 "nbformat_minor": 2
}
